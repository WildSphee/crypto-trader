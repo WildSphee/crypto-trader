{
 "cells": [
  {
   "cell_type": "code",
   "execution_count": 1,
   "id": "9768d298",
   "metadata": {},
   "outputs": [
    {
     "name": "stdout",
     "output_type": "stream",
     "text": [
      "3kMQL5RFkaFdSwXT4zIq8ilzaXnUjKMU1tKaYGDDDmf21iUmhZevEalrHST2XPUK FfOp0CRpklUan8nviuVXpjeVVkz5q5vledCKkdFqE2C3Btq0PXO5mTMzGmpNz6zv True\n",
      "Appending Historical Data...\n"
     ]
    }
   ],
   "source": [
    "from binance.client import Client  \n",
    "from binance.enums import *\n",
    "from bot import Trade\n",
    "\n",
    "trade = Trade(\"BTCUSDT\", Client.KLINE_INTERVAL_1HOUR)\n",
    "trade.minutes = 60\n",
    "\n",
    "print(\"Appending Historical Data...\")\n",
    "\n",
    "trade.InitAllHistoricalData()\n",
    "trade.append_history_to_df()\n",
    "trade.set_price()"
   ]
  },
  {
   "cell_type": "code",
   "execution_count": 2,
   "id": "d67b123b",
   "metadata": {},
   "outputs": [
    {
     "ename": "BinanceAPIException",
     "evalue": "APIError(code=-2015): Invalid API-key, IP, or permissions for action.",
     "output_type": "error",
     "traceback": [
      "\u001b[31m---------------------------------------------------------------------------\u001b[39m",
      "\u001b[31mBinanceAPIException\u001b[39m                       Traceback (most recent call last)",
      "\u001b[32m/tmp/ipykernel_957093/2594900964.py\u001b[39m in \u001b[36m?\u001b[39m\u001b[34m()\u001b[39m\n\u001b[32m      1\u001b[39m \u001b[38;5;28;01mfrom\u001b[39;00m historical_data \u001b[38;5;28;01mimport\u001b[39;00m HistoricalData, client\n\u001b[32m      2\u001b[39m \n\u001b[32m----> \u001b[39m\u001b[32m3\u001b[39m usdt_balance = client.get_asset_balance(asset=\u001b[33m\"USDT\"\u001b[39m)\n\u001b[32m      4\u001b[39m btc_balance = client.get_asset_balance(asset=\u001b[33m\"BTC\"\u001b[39m)\n",
      "\u001b[32m~/Algorithmic-Trading-Bot/venv/lib/python3.13/site-packages/binance/client.py\u001b[39m in \u001b[36m?\u001b[39m\u001b[34m(self, asset, **params)\u001b[39m\n\u001b[32m   2185\u001b[39m \n\u001b[32m   2186\u001b[39m         :raises: BinanceRequestException, BinanceAPIException\n\u001b[32m   2187\u001b[39m \n\u001b[32m   2188\u001b[39m         \"\"\"\n\u001b[32m-> \u001b[39m\u001b[32m2189\u001b[39m         res = self.get_account(**params)\n\u001b[32m   2190\u001b[39m         \u001b[38;5;66;03m# find asset balance in list of balances\u001b[39;00m\n\u001b[32m   2191\u001b[39m         \u001b[38;5;28;01mif\u001b[39;00m \u001b[33m\"balances\"\u001b[39m \u001b[38;5;28;01min\u001b[39;00m res:\n\u001b[32m   2192\u001b[39m             \u001b[38;5;28;01mif\u001b[39;00m asset:\n",
      "\u001b[32m~/Algorithmic-Trading-Bot/venv/lib/python3.13/site-packages/binance/client.py\u001b[39m in \u001b[36m?\u001b[39m\u001b[34m(self, **params)\u001b[39m\n\u001b[32m   2162\u001b[39m \n\u001b[32m   2163\u001b[39m         :raises: BinanceRequestException, BinanceAPIException\n\u001b[32m   2164\u001b[39m \n\u001b[32m   2165\u001b[39m         \"\"\"\n\u001b[32m-> \u001b[39m\u001b[32m2166\u001b[39m         \u001b[38;5;28;01mreturn\u001b[39;00m self._get(\u001b[33m\"account\"\u001b[39m, \u001b[38;5;28;01mTrue\u001b[39;00m, data=params)\n",
      "\u001b[32m~/Algorithmic-Trading-Bot/venv/lib/python3.13/site-packages/binance/client.py\u001b[39m in \u001b[36m?\u001b[39m\u001b[34m(self, path, signed, version, **kwargs)\u001b[39m\n\u001b[32m    179\u001b[39m     \u001b[38;5;28;01mdef\u001b[39;00m _get(self, path, signed=\u001b[38;5;28;01mFalse\u001b[39;00m, version=BaseClient.PUBLIC_API_VERSION, **kwargs):\n\u001b[32m--> \u001b[39m\u001b[32m180\u001b[39m         \u001b[38;5;28;01mreturn\u001b[39;00m self._request_api(\u001b[33m\"get\"\u001b[39m, path, signed, version, **kwargs)\n",
      "\u001b[32m~/Algorithmic-Trading-Bot/venv/lib/python3.13/site-packages/binance/client.py\u001b[39m in \u001b[36m?\u001b[39m\u001b[34m(self, method, path, signed, version, **kwargs)\u001b[39m\n\u001b[32m    113\u001b[39m         version=BaseClient.PUBLIC_API_VERSION,\n\u001b[32m    114\u001b[39m         **kwargs,\n\u001b[32m    115\u001b[39m     ):\n\u001b[32m    116\u001b[39m         uri = self._create_api_uri(path, signed, version)\n\u001b[32m--> \u001b[39m\u001b[32m117\u001b[39m         \u001b[38;5;28;01mreturn\u001b[39;00m self._request(method, uri, signed, **kwargs)\n",
      "\u001b[32m~/Algorithmic-Trading-Bot/venv/lib/python3.13/site-packages/binance/client.py\u001b[39m in \u001b[36m?\u001b[39m\u001b[34m(self, method, uri, signed, force_params, **kwargs)\u001b[39m\n\u001b[32m     85\u001b[39m             url_encoded_data = urlencode(dict_data)\n\u001b[32m     86\u001b[39m             data = f\"{url_encoded_data}&signature={signature}\"\n\u001b[32m     87\u001b[39m \n\u001b[32m     88\u001b[39m         self.response = getattr(self.session, method)(uri, headers=headers, data=data, **kwargs)\n\u001b[32m---> \u001b[39m\u001b[32m89\u001b[39m         \u001b[38;5;28;01mreturn\u001b[39;00m self._handle_response(self.response)\n",
      "\u001b[32m~/Algorithmic-Trading-Bot/venv/lib/python3.13/site-packages/binance/client.py\u001b[39m in \u001b[36m?\u001b[39m\u001b[34m(response)\u001b[39m\n\u001b[32m     94\u001b[39m         Raises the appropriate exceptions when necessary; otherwise, returns the\n\u001b[32m     95\u001b[39m         response.\n\u001b[32m     96\u001b[39m         \"\"\"\n\u001b[32m     97\u001b[39m         \u001b[38;5;28;01mif\u001b[39;00m \u001b[38;5;28;01mnot\u001b[39;00m (\u001b[32m200\u001b[39m <= response.status_code < \u001b[32m300\u001b[39m):\n\u001b[32m---> \u001b[39m\u001b[32m98\u001b[39m             \u001b[38;5;28;01mraise\u001b[39;00m BinanceAPIException(response, response.status_code, response.text)\n\u001b[32m     99\u001b[39m \n\u001b[32m    100\u001b[39m         \u001b[38;5;28;01mif\u001b[39;00m response.text == \u001b[33m\"\"\u001b[39m:\n\u001b[32m    101\u001b[39m             \u001b[38;5;28;01mreturn\u001b[39;00m {}\n",
      "\u001b[31mBinanceAPIException\u001b[39m: APIError(code=-2015): Invalid API-key, IP, or permissions for action."
     ]
    }
   ],
   "source": [
    "from historical_data import HistoricalData, client    \n",
    "\n",
    "usdt_balance = client.get_asset_balance(asset=\"USDT\")\n",
    "btc_balance = client.get_asset_balance(asset=\"BTC\")"
   ]
  },
  {
   "cell_type": "code",
   "execution_count": null,
   "id": "cad4905d",
   "metadata": {},
   "outputs": [],
   "source": []
  }
 ],
 "metadata": {
  "kernelspec": {
   "display_name": "venv (3.13.5)",
   "language": "python",
   "name": "python3"
  },
  "language_info": {
   "codemirror_mode": {
    "name": "ipython",
    "version": 3
   },
   "file_extension": ".py",
   "mimetype": "text/x-python",
   "name": "python",
   "nbconvert_exporter": "python",
   "pygments_lexer": "ipython3",
   "version": "3.13.5"
  }
 },
 "nbformat": 4,
 "nbformat_minor": 5
}
