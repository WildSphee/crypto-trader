{
 "cells": [
  {
   "cell_type": "code",
   "execution_count": 1,
   "id": "9768d298",
   "metadata": {},
   "outputs": [
    {
     "name": "stdout",
     "output_type": "stream",
     "text": [
      "Appending Historical Data...\n"
     ]
    }
   ],
   "source": [
    "from binance.client import Client  \n",
    "from binance.enums import *\n",
    "from bot import Trade\n",
    "\n",
    "trade = Trade(\"BTCUSDT\", Client.KLINE_INTERVAL_1HOUR)\n",
    "trade.minutes = 60\n",
    "\n",
    "print(\"Appending Historical Data...\")\n",
    "\n",
    "trade.InitAllHistoricalData()\n",
    "trade.append_history_to_df()\n",
    "trade.set_price()"
   ]
  },
  {
   "cell_type": "code",
   "execution_count": 2,
   "id": "d67b123b",
   "metadata": {},
   "outputs": [
    {
     "name": "stdout",
     "output_type": "stream",
     "text": [
      "{'asset': 'USDT', 'free': '0.54260000', 'locked': '0.00000000'} \n",
      " {'asset': 'BTC', 'free': '0.00000000', 'locked': '0.00000000'}\n"
     ]
    }
   ],
   "source": [
    "from historical_data import HistoricalData, client, client_query  \n",
    "\n",
    "usdt_balance = client_query.get_asset_balance(asset=\"USDT\")\n",
    "btc_balance = client_query.get_asset_balance(asset=\"BTC\")\n",
    "# res = client_query.get_account()\n",
    "# res\n",
    "print(usdt_balance, \"\\n\",btc_balance)"
   ]
  },
  {
   "cell_type": "code",
   "execution_count": null,
   "id": "c4ef6291",
   "metadata": {},
   "outputs": [
    {
     "name": "stdout",
     "output_type": "stream",
     "text": [
      "Appending Historical Data...\n",
      "Finished Appending Historical Data...\n",
      "\n",
      " Your Balance:  {'asset': 'USDT', 'free': '0.54260000', 'locked': '0.00000000'} {'asset': 'BTC', 'free': '0.00000000', 'locked': '0.00000000'} \n",
      "\n",
      "Binance Auto Trading Starts...\n",
      "Time for first trade:  2025-08-31 19:00:00\n"
     ]
    }
   ],
   "source": [
    "from bot import main\n",
    "\n",
    "main()"
   ]
  },
  {
   "cell_type": "code",
   "execution_count": null,
   "id": "c45f651a",
   "metadata": {},
   "outputs": [],
   "source": []
  }
 ],
 "metadata": {
  "kernelspec": {
   "display_name": "venv (3.12.4)",
   "language": "python",
   "name": "python3"
  },
  "language_info": {
   "codemirror_mode": {
    "name": "ipython",
    "version": 3
   },
   "file_extension": ".py",
   "mimetype": "text/x-python",
   "name": "python",
   "nbconvert_exporter": "python",
   "pygments_lexer": "ipython3",
   "version": "3.12.4"
  }
 },
 "nbformat": 4,
 "nbformat_minor": 5
}
