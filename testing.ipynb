{
 "cells": [
  {
   "cell_type": "code",
   "execution_count": 1,
   "id": "9768d298",
   "metadata": {},
   "outputs": [
    {
     "name": "stdout",
     "output_type": "stream",
     "text": [
      "Appending Historical Data...\n"
     ]
    }
   ],
   "source": [
    "from binance.client import Client  \n",
    "from binance.enums import *\n",
    "from bot import Trade\n",
    "\n",
    "trade = Trade(\"BTCUSDT\", Client.KLINE_INTERVAL_1HOUR)\n",
    "trade.minutes = 60\n",
    "\n",
    "print(\"Appending Historical Data...\")\n",
    "\n",
    "trade.InitAllHistoricalData()\n",
    "trade.append_history_to_df()\n",
    "trade.set_price()"
   ]
  },
  {
   "cell_type": "code",
   "execution_count": 2,
   "id": "d67b123b",
   "metadata": {},
   "outputs": [
    {
     "name": "stdout",
     "output_type": "stream",
     "text": [
      "{'asset': 'USDT', 'free': '0.54260000', 'locked': '0.00000000'} \n",
      " {'asset': 'BTC', 'free': '0.00000000', 'locked': '0.00000000'}\n"
     ]
    }
   ],
   "source": [
    "from historical_data import HistoricalData, client, client_query  \n",
    "\n",
    "usdt_balance = client_query.get_asset_balance(asset=\"USDT\")\n",
    "btc_balance = client_query.get_asset_balance(asset=\"BTC\")\n",
    "# res = client_query.get_account()\n",
    "# res\n",
    "print(usdt_balance, \"\\n\",btc_balance)"
   ]
  },
  {
   "cell_type": "code",
   "execution_count": 3,
   "id": "c4ef6291",
   "metadata": {},
   "outputs": [
    {
     "name": "stdout",
     "output_type": "stream",
     "text": [
      "Appending Historical Data...\n",
      "Finished Appending Historical Data...\n",
      "\n",
      " Your Balance:  {'asset': 'USDT', 'free': '0.54260000', 'locked': '0.00000000'} {'asset': 'BTC', 'free': '0.00000000', 'locked': '0.00000000'} \n",
      "\n",
      "Binance Auto Trading Starts...\n",
      "Time for first trade:  2025-08-31 19:00:00\n"
     ]
    },
    {
     "ename": "KeyboardInterrupt",
     "evalue": "",
     "output_type": "error",
     "traceback": [
      "\u001b[31m---------------------------------------------------------------------------\u001b[39m",
      "\u001b[31mKeyboardInterrupt\u001b[39m                         Traceback (most recent call last)",
      "\u001b[36mCell\u001b[39m\u001b[36m \u001b[39m\u001b[32mIn[3]\u001b[39m\u001b[32m, line 3\u001b[39m\n\u001b[32m      1\u001b[39m \u001b[38;5;28;01mfrom\u001b[39;00m\u001b[38;5;250m \u001b[39m\u001b[34;01mbot\u001b[39;00m\u001b[38;5;250m \u001b[39m\u001b[38;5;28;01mimport\u001b[39;00m main\n\u001b[32m----> \u001b[39m\u001b[32m3\u001b[39m \u001b[43mmain\u001b[49m\u001b[43m(\u001b[49m\u001b[43m)\u001b[49m\n",
      "\u001b[36mFile \u001b[39m\u001b[32mc:\\Users\\Chan\\Desktop\\crypto-trader\\bot.py:286\u001b[39m, in \u001b[36mmain\u001b[39m\u001b[34m()\u001b[39m\n\u001b[32m    284\u001b[39m now: \u001b[38;5;28mint\u001b[39m = \u001b[38;5;28mint\u001b[39m(datetime.datetime.now().timestamp()) * \u001b[32m1000\u001b[39m\n\u001b[32m    285\u001b[39m \u001b[38;5;66;03m# sync first deal\u001b[39;00m\n\u001b[32m--> \u001b[39m\u001b[32m286\u001b[39m \u001b[38;5;28;01mif\u001b[39;00m now == first_dealtime:\n\u001b[32m    287\u001b[39m     dealtime += delta\n\u001b[32m    289\u001b[39m     trade.UpdateModelperInterval()  \u001b[38;5;66;03m# predictor arr is now filled\u001b[39;00m\n",
      "\u001b[31mKeyboardInterrupt\u001b[39m: "
     ]
    }
   ],
   "source": [
    "from bot import main\n",
    "\n",
    "main()"
   ]
  },
  {
   "cell_type": "code",
   "execution_count": null,
   "id": "c45f651a",
   "metadata": {},
   "outputs": [],
   "source": []
  }
 ],
 "metadata": {
  "kernelspec": {
   "display_name": "venv (3.12.4)",
   "language": "python",
   "name": "python3"
  },
  "language_info": {
   "codemirror_mode": {
    "name": "ipython",
    "version": 3
   },
   "file_extension": ".py",
   "mimetype": "text/x-python",
   "name": "python",
   "nbconvert_exporter": "python",
   "pygments_lexer": "ipython3",
   "version": "3.12.4"
  }
 },
 "nbformat": 4,
 "nbformat_minor": 5
}
