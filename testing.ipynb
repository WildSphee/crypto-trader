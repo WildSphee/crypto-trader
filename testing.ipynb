{
 "cells": [
  {
   "cell_type": "code",
   "execution_count": null,
   "id": "d67b123b",
   "metadata": {},
   "outputs": [
    {
     "name": "stdout",
     "output_type": "stream",
     "text": [
      "{'asset': 'USDT', 'free': '0.54260000', 'locked': '0.00000000'} \n",
      " {'asset': 'BTC', 'free': '0.00000000', 'locked': '0.00000000'}\n"
     ]
    }
   ],
   "source": [
    "from binance.client import Client\n",
    "\n",
    "import config\n",
    "from history_manager import HistoryManager\n",
    "\n",
    "client = Client(\n",
    "    getattr(config, \"api_key\", None),\n",
    "    getattr(config, \"api_secret\", None),\n",
    "    testnet=False,\n",
    ")"
   ]
  },
  {
   "cell_type": "code",
   "execution_count": null,
   "id": "c4ef6291",
   "metadata": {},
   "outputs": [
    {
     "name": "stdout",
     "output_type": "stream",
     "text": [
      "Appending Historical Data...\n",
      "Finished Appending Historical Data...\n",
      "\n",
      " Your Balance:  {'asset': 'USDT', 'free': '0.54260000', 'locked': '0.00000000'} {'asset': 'BTC', 'free': '0.00000000', 'locked': '0.00000000'} \n",
      "\n",
      "Binance Auto Trading Starts...\n",
      "Time for first trade:  2025-08-31 18:30:00\n",
      "Predicted Long Probability:  0.3410368121188709\n",
      "Predicted Short Probability:  0.6589631878811291 \n",
      "\n",
      "Shorting is not allowed in the developers jurisdiction. No action is performed. \n",
      "\n",
      "Time for next Trade:  2025-08-31 18:45:00 \n",
      "\n",
      "Predicted Long Probability:  0.2977521317198586\n",
      "Predicted Short Probability:  0.7022478682801414 \n",
      "\n",
      "Shorting is not allowed in the developers jurisdiction. No action is performed. \n",
      "\n",
      "Time for next Trade:  2025-08-31 19:00:00 \n",
      "\n",
      "Predicted Long Probability:  0.38114180148498156\n",
      "Predicted Short Probability:  0.6188581985150184 \n",
      "\n",
      "Shorting is not allowed in the developers jurisdiction. No action is performed. \n",
      "\n",
      "Time for next Trade:  2025-08-31 19:15:00 \n",
      "\n",
      "Predicted Long Probability:  0.3820731379108692\n",
      "Predicted Short Probability:  0.6179268620891307 \n",
      "\n",
      "Shorting is not allowed in the developers jurisdiction. No action is performed. \n",
      "\n",
      "Time for next Trade:  2025-08-31 19:30:00 \n",
      "\n",
      "Predicted Long Probability:  0.3640846466478531\n",
      "Predicted Short Probability:  0.6359153533521469 \n",
      "\n",
      "Shorting is not allowed in the developers jurisdiction. No action is performed. \n",
      "\n",
      "Time for next Trade:  2025-08-31 19:45:00 \n",
      "\n",
      "Predicted Long Probability:  3.425883344748696e-40\n",
      "Predicted Short Probability:  1.0 \n",
      "\n",
      "Shorting is not allowed in the developers jurisdiction. No action is performed. \n",
      "\n",
      "Time for next Trade:  2025-08-31 20:00:00 \n",
      "\n"
     ]
    },
    {
     "ename": "KeyboardInterrupt",
     "evalue": "",
     "output_type": "error",
     "traceback": [
      "\u001b[31m---------------------------------------------------------------------------\u001b[39m",
      "\u001b[31mKeyboardInterrupt\u001b[39m                         Traceback (most recent call last)",
      "\u001b[36mCell\u001b[39m\u001b[36m \u001b[39m\u001b[32mIn[3]\u001b[39m\u001b[32m, line 3\u001b[39m\n\u001b[32m      1\u001b[39m \u001b[38;5;28;01mfrom\u001b[39;00m\u001b[38;5;250m \u001b[39m\u001b[34;01mbot\u001b[39;00m\u001b[38;5;250m \u001b[39m\u001b[38;5;28;01mimport\u001b[39;00m main\n\u001b[32m----> \u001b[39m\u001b[32m3\u001b[39m \u001b[43mmain\u001b[49m\u001b[43m(\u001b[49m\u001b[43m)\u001b[49m\n",
      "\u001b[36mFile \u001b[39m\u001b[32mc:\\Users\\Chan\\Desktop\\crypto-trader\\bot.py:284\u001b[39m, in \u001b[36mmain\u001b[39m\u001b[34m()\u001b[39m\n\u001b[32m    281\u001b[39m dealtime = first_dealtime  \u001b[38;5;66;03m# for continuous orders\u001b[39;00m\n\u001b[32m    283\u001b[39m \u001b[38;5;28;01mwhile\u001b[39;00m \u001b[38;5;28;01mTrue\u001b[39;00m:\n\u001b[32m--> \u001b[39m\u001b[32m284\u001b[39m     now: \u001b[38;5;28mint\u001b[39m = \u001b[38;5;28;43mint\u001b[39;49m\u001b[43m(\u001b[49m\u001b[43mdatetime\u001b[49m\u001b[43m.\u001b[49m\u001b[43mdatetime\u001b[49m\u001b[43m.\u001b[49m\u001b[43mnow\u001b[49m\u001b[43m(\u001b[49m\u001b[43m)\u001b[49m\u001b[43m.\u001b[49m\u001b[43mtimestamp\u001b[49m\u001b[43m(\u001b[49m\u001b[43m)\u001b[49m\u001b[43m)\u001b[49m * \u001b[32m1000\u001b[39m\n\u001b[32m    285\u001b[39m     \u001b[38;5;66;03m# sync first deal\u001b[39;00m\n\u001b[32m    286\u001b[39m     \u001b[38;5;28;01mif\u001b[39;00m now == first_dealtime:\n",
      "\u001b[31mKeyboardInterrupt\u001b[39m: "
     ]
    }
   ],
   "source": [
    "# 1) Build features\n",
    "data = HistoryManager(\n",
    "    client=client,\n",
    "    symbol=\"BTCUSDT\",\n",
    "    interval=\"15m\",\n",
    "    start_str=\"90 days ago UTC\",\n",
    "    timelag=20,\n",
    ")"
   ]
  },
  {
   "cell_type": "code",
   "execution_count": null,
   "id": "c45f651a",
   "metadata": {},
   "outputs": [],
   "source": []
  }
 ],
 "metadata": {
  "kernelspec": {
   "display_name": "venv (3.12.4)",
   "language": "python",
   "name": "python3"
  },
  "language_info": {
   "codemirror_mode": {
    "name": "ipython",
    "version": 3
   },
   "file_extension": ".py",
   "mimetype": "text/x-python",
   "name": "python",
   "nbconvert_exporter": "python",
   "pygments_lexer": "ipython3",
   "version": "3.12.4"
  }
 },
 "nbformat": 4,
 "nbformat_minor": 5
}
