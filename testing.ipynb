{
 "cells": [
  {
   "cell_type": "code",
   "execution_count": 1,
   "id": "d67b123b",
   "metadata": {},
   "outputs": [
    {
     "name": "stdout",
     "output_type": "stream",
     "text": [
      "Running on Mainnet!!!!\n"
     ]
    }
   ],
   "source": [
    "from binance.client import Client\n",
    "\n",
    "import config\n",
    "from history_manager import HistoryManager\n",
    "\n",
    "client = Client(\n",
    "    getattr(config, \"api_key\", None),\n",
    "    getattr(config, \"api_secret\", None),\n",
    "    testnet=False,\n",
    ")"
   ]
  },
  {
   "cell_type": "code",
   "execution_count": 2,
   "id": "c4ef6291",
   "metadata": {},
   "outputs": [],
   "source": [
    "# 1) Build features\n",
    "data = HistoryManager(\n",
    "    client=client,\n",
    "    symbol=\"BTCUSDT\",\n",
    "    interval=\"15m\",\n",
    "    start_str=\"90 days ago UTC\",\n",
    "    timelag=20,\n",
    ")"
   ]
  },
  {
   "cell_type": "code",
   "execution_count": null,
   "id": "c45f651a",
   "metadata": {},
   "outputs": [],
   "source": []
  }
 ],
 "metadata": {
  "kernelspec": {
   "display_name": "venv (3.12.4)",
   "language": "python",
   "name": "python3"
  },
  "language_info": {
   "codemirror_mode": {
    "name": "ipython",
    "version": 3
   },
   "file_extension": ".py",
   "mimetype": "text/x-python",
   "name": "python",
   "nbconvert_exporter": "python",
   "pygments_lexer": "ipython3",
   "version": "3.12.4"
  }
 },
 "nbformat": 4,
 "nbformat_minor": 5
}
